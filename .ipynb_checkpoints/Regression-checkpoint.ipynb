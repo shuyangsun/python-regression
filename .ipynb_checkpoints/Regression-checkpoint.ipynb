{
 "cells": [
  {
   "cell_type": "markdown",
   "metadata": {},
   "source": [
    "# Regression"
   ]
  },
  {
   "cell_type": "markdown",
   "metadata": {},
   "source": [
    "## Description\n",
    "This Python script is to do linear or logistic regression, using gradient descent or normal equation."
   ]
  },
  {
   "cell_type": "code",
   "execution_count": 60,
   "metadata": {
    "collapsed": true
   },
   "outputs": [],
   "source": [
    "#imports\n",
    "import numpy as np\n",
    "import pandas as pd\n",
    "import math\n",
    "import time\n",
    "import enum"
   ]
  },
  {
   "cell_type": "code",
   "execution_count": 61,
   "metadata": {
    "collapsed": true
   },
   "outputs": [],
   "source": [
    "# Regression Type\n",
    "class RegressionType(enum.Enum):\n",
    "    linear = 1\n",
    "    logistic = 2"
   ]
  },
  {
   "cell_type": "code",
   "execution_count": 62,
   "metadata": {
    "collapsed": true
   },
   "outputs": [],
   "source": [
    "# Feature Processing Class\n",
    "class FeaturePreProcessingType(enum.Enum):\n",
    "    no_preprocessing = 0\n",
    "    feature_scaling = 1"
   ]
  },
  {
   "cell_type": "code",
   "execution_count": 63,
   "metadata": {
    "collapsed": true
   },
   "outputs": [],
   "source": [
    "# Linear Regression Algorithm Class\n",
    "class LinearRegressionAlgorithmType(enum.Enum):\n",
    "    unspecified = 0\n",
    "    gradient_descent = 1\n",
    "    normal_equation = 2"
   ]
  },
  {
   "cell_type": "code",
   "execution_count": 64,
   "metadata": {
    "collapsed": false
   },
   "outputs": [],
   "source": [
    "class DataProcessor():\n",
    "    \n",
    "    @staticmethod\n",
    "    def add_x0_column(A):\n",
    "        return np.insert(A, obj=0, values=1, axis=1)\n",
    "\n",
    "    @staticmethod\n",
    "    def augmented_to_coefficient_and_b(A):\n",
    "        return (A[:, :-1], A[:, -1])\n",
    "\n",
    "    @staticmethod\n",
    "    def partition(A, atInd):\n",
    "        return (A[:atInd], A[atInd:])\n",
    "    \n",
    "    @staticmethod\n",
    "    def get_category_to_number_and_vise_versa_dict(categories, case_sensitive=True):\n",
    "        if not case_sensitive:\n",
    "            categories = [x.lower() if isinstance(x, str) else x for x in arr ]\n",
    "        original_categories = set(categories)\n",
    "        cat_to_num = dict()\n",
    "        num_to_cat = dict()\n",
    "        for i, category in enumerate(original_categories):\n",
    "            cat_to_num[category] = i\n",
    "            num_to_cat[i] = category\n",
    "        return (cat_to_num, num_to_cat)"
   ]
  },
  {
   "cell_type": "code",
   "execution_count": 65,
   "metadata": {
    "collapsed": true
   },
   "outputs": [],
   "source": [
    "class DataScalar():\n",
    "    \n",
    "    def __init__(self, data, data_has_x0_column=False):\n",
    "        self.__data = data\n",
    "        self.__data_has_x0_column = data_has_x0_column \n",
    "        self.__scalars = np.ones(np.size(data, axis=1))\n",
    "        self.__calculate_scalars()\n",
    "    \n",
    "    def scaled_data(self):\n",
    "        return self.scale_new_data(self.__data, self.__data_has_x0_column)\n",
    "    \n",
    "    def scale_new_data(self, data, input_has_x0_column=False):\n",
    "        if input_has_x0_column:\n",
    "            avg = np.insert(self.__avg, obj=0, values=0)\n",
    "            std = np.insert(self.__std, obj=0, values=1)\n",
    "        else:\n",
    "            avg = self.__avg\n",
    "            std = self.__std\n",
    "        return (data - avg) / std\n",
    "        \n",
    "    def __calculate_scalars(self):\n",
    "        if self.__data_has_x0_column:\n",
    "            self.__avg = np.average(self.__data[:, 1:], axis=0)\n",
    "            self.__std = np.std(self.__data[:, 1:], axis=0)\n",
    "        else:\n",
    "            self.__avg = np.average(self.__data, axis=0)\n",
    "            self.__std = np.std(self.__data, axis=0)"
   ]
  },
  {
   "cell_type": "code",
   "execution_count": 66,
   "metadata": {
    "collapsed": false
   },
   "outputs": [
    {
     "ename": "IndentationError",
     "evalue": "expected an indented block (<ipython-input-66-db50fb9fc77e>, line 6)",
     "output_type": "error",
     "traceback": [
      "\u001b[0;36m  File \u001b[0;32m\"<ipython-input-66-db50fb9fc77e>\"\u001b[0;36m, line \u001b[0;32m6\u001b[0m\n\u001b[0;31m    def train(self, learning_rate=0.01, regularization_lambda=0.0):\u001b[0m\n\u001b[0m      ^\u001b[0m\n\u001b[0;31mIndentationError\u001b[0m\u001b[0;31m:\u001b[0m expected an indented block\n"
     ]
    }
   ],
   "source": [
    "class Trainer():\n",
    "    def __init__(self,\n",
    "                coefficient_matrix,\n",
    "                outputs,\n",
    "                regression_type):\n",
    "        self.__x = coefficient_matrix\n",
    "        self.__y = outputs\n",
    "        self.__regression_type = regression_type\n",
    "\n",
    "    def train(self,\n",
    "              training_algorithm=LinearRegressionAlgorithmType.unspecified,\n",
    "              learning_rate=0.01,\n",
    "              regularization_lambda=0.0):\n",
    "        self.__setup_training()\n",
    "        \n",
    "        print('Started training......')\n",
    "        start_time = time.time()\n",
    "        if not training_algorithm:\n",
    "            training_algorithm = self.__get_training_alg_from_num_features()\n",
    "        #TODO\n",
    "    \n",
    "    def get_weights(self):\n",
    "        return self.__theta\n",
    "    \n",
    "    def __setup_training(self):\n",
    "        if self.__regression_type == RegressionType.linear:\n",
    "            self.__setup_linear_regression()\n",
    "        elif self.__regression_type == RegressionType.logistic:\n",
    "            self.__setup_logistic_regression()\n",
    "        else:\n",
    "            raise ValueError('Cannot start training, regression type not specified.')\n",
    "\n",
    "    def __setup_linear_regression(self):\n",
    "        self.__theta = np.zeros(np.size(self.__data, axis=1))\n",
    "        \n",
    "    def __setup_logistic_regression(self):\n",
    "        self.__categories = np.array(set(self.__y))\n",
    "        feature_count = np.size(self.__data, axis=1)\n",
    "        cat_count = np.size(self.__categories, axis=0)\n",
    "        if cat_count < 2:\n",
    "            raise ValueError('Cannot do logistic regression, there is only one kind of output.')\n",
    "        elif cat_count == 2:\n",
    "            self.__binary_classification = True\n",
    "            self.__theta = np.zeros(feature_count)\n",
    "        else:\n",
    "            self.__binary_classification = False\n",
    "            theta_shape = (cat_count, feature_count)\n",
    "            self.__theta = np.zeros(shape=theta_shape)\n",
    "    \n",
    "    def __get_training_alg_from_num_features(self):\n",
    "        num_features_threshold = 10000\n",
    "        training_set_num_features = np.size(self.__x, axis=1)\n",
    "        linear_reg = self.__regression_type == RegressionType.linear\n",
    "        feature_count_small = training_set_num_features < num_features_threshold\n",
    "        if linear_reg and feature_count_small:\n",
    "            return LinearRegressionAlgorithmType.normal_equation\n",
    "        else:\n",
    "            return LinearRegressionAlgorithmType.gradient_descent\n",
    "        "
   ]
  }
 ],
 "metadata": {
  "kernelspec": {
   "display_name": "Python 3",
   "language": "python",
   "name": "python3"
  },
  "language_info": {
   "codemirror_mode": {
    "name": "ipython",
    "version": 3
   },
   "file_extension": ".py",
   "mimetype": "text/x-python",
   "name": "python",
   "nbconvert_exporter": "python",
   "pygments_lexer": "ipython3",
   "version": "3.5.2"
  }
 },
 "nbformat": 4,
 "nbformat_minor": 0
}
